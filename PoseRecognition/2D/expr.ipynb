{
 "cells": [
  {
   "cell_type": "code",
   "execution_count": null,
   "metadata": {},
   "outputs": [],
   "source": [
    "# Board display reader can be seen as a 2d human pose estimation\n",
    "# method1: targets: visible splits of board-marks(with digits) and the pointers(sometimes multiple ones are present).\n",
    "\n",
    "# Only the left and right digits are detected\n",
    "\n",
    "class HRNet(object):\n",
    "    def __init__(self) -> None:\n",
    "        pass"
   ]
  }
 ],
 "metadata": {
  "language_info": {
   "name": "python"
  },
  "orig_nbformat": 4
 },
 "nbformat": 4,
 "nbformat_minor": 2
}
