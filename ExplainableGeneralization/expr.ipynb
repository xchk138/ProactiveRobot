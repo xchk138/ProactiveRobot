{
 "cells": [
  {
   "cell_type": "code",
   "execution_count": null,
   "metadata": {},
   "outputs": [],
   "source": [
    "import numpy as np\n",
    "import torch\n",
    "import cv2\n",
    "\n",
    "# load pretrained VQ-VAE to serve as a feature extractor\n",
    "# Since VQ-VAE can binarize an image into features and does not\n",
    "# lose too much information.\n",
    "# now we're going to train VQ-VAE on FashionMNIST, CIFAR10, MINI-IMAGENET\n",
    "# to verify our ideas of generalization.\n",
    "\n",
    "# check pretrained VA-VQE on MNIST\n"
   ]
  }
 ],
 "metadata": {
  "kernelspec": {
   "display_name": "Python 3.9.12 ('base')",
   "language": "python",
   "name": "python3"
  },
  "language_info": {
   "name": "python",
   "version": "3.9.12"
  },
  "orig_nbformat": 4,
  "vscode": {
   "interpreter": {
    "hash": "c6427fd6fb86ebb0e81f0e935180534a4916f9a4c1f46a89c1ac14e736c757c0"
   }
  }
 },
 "nbformat": 4,
 "nbformat_minor": 2
}
